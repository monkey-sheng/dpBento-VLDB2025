{
 "cells": [
  {
   "cell_type": "code",
   "execution_count": 1,
   "metadata": {},
   "outputs": [],
   "source": [
    "import argparse\n",
    "import sys\n",
    "import time\n",
    "\n",
    "import cv2\n",
    "from tflite_support.task import core\n",
    "from tflite_support.task import processor\n",
    "from tflite_support.task import vision"
   ]
  },
  {
   "cell_type": "code",
   "execution_count": 4,
   "metadata": {},
   "outputs": [],
   "source": [
    "NUM_THREADS = 1\n",
    "MODEL = 'classifierint8.tflite'\n",
    "IMAGE = 'burger.jpg'"
   ]
  },
  {
   "cell_type": "code",
   "execution_count": 3,
   "metadata": {},
   "outputs": [
    {
     "name": "stderr",
     "output_type": "stream",
     "text": [
      "INFO: Created TensorFlow Lite XNNPACK delegate for CPU.\n"
     ]
    }
   ],
   "source": [
    "# Initialize the image classification model\n",
    "base_options = core.BaseOptions(\n",
    "    file_name=MODEL, num_threads=NUM_THREADS)\n",
    "\n",
    "classification_options = processor.ClassificationOptions()\n",
    "options = vision.ImageClassifierOptions(\n",
    "    base_options=base_options, classification_options=classification_options)\n",
    "\n",
    "classifier = vision.ImageClassifier.create_from_options(options)\n",
    "\n"
   ]
  },
  {
   "cell_type": "code",
   "execution_count": 5,
   "metadata": {},
   "outputs": [],
   "source": [
    "img = cv2.imread(IMAGE)\n",
    "# Create TensorImage from the RGB image\n",
    "tensor_image = vision.TensorImage.create_from_array(img)\n",
    "# List classification results\n",
    "categories = classifier.classify(tensor_image)"
   ]
  }
 ],
 "metadata": {
  "kernelspec": {
   "display_name": "Python 3",
   "language": "python",
   "name": "python3"
  },
  "language_info": {
   "codemirror_mode": {
    "name": "ipython",
    "version": 3
   },
   "file_extension": ".py",
   "mimetype": "text/x-python",
   "name": "python",
   "nbconvert_exporter": "python",
   "pygments_lexer": "ipython3",
   "version": "3.10.12"
  }
 },
 "nbformat": 4,
 "nbformat_minor": 2
}
